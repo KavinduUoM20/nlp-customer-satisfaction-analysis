{
 "cells": [
  {
   "cell_type": "markdown",
   "id": "33e34fcb-619a-42eb-be21-7b6778b85b4d",
   "metadata": {},
   "source": [
    "## Pipeline Functions"
   ]
  },
  {
   "cell_type": "code",
   "execution_count": null,
   "id": "33ad326f-7603-4013-a863-08a4eb51194e",
   "metadata": {},
   "outputs": [],
   "source": [
    "# Load dataset\n",
    "def load_data():\n",
    "    data = pd.read_csv(\"./data/reviews-dataset.csv\")\n",
    "    return data"
   ]
  },
  {
   "cell_type": "code",
   "execution_count": null,
   "id": "4ecf1621-d556-40eb-912e-eec691cad59d",
   "metadata": {},
   "outputs": [],
   "source": [
    "# get preprocessed data\n",
    "def get_preprocessed_data():\n",
    "    data = load_data()\n",
    "    return preprocess_data(data)"
   ]
  },
  {
   "cell_type": "code",
   "execution_count": null,
   "id": "77e2a714-382b-4a02-846c-702d5bd190a9",
   "metadata": {},
   "outputs": [],
   "source": [
    "# Category wise Reviews\n",
    "def category_reviews():\n",
    "    data = load_data()\n",
    "    return data.product_category.value_counts().to_dict()"
   ]
  },
  {
   "cell_type": "code",
   "execution_count": null,
   "id": "c327ea29-2ce6-4985-9f04-abbb7b54a1f4",
   "metadata": {},
   "outputs": [],
   "source": [
    "def get_total_reviews():\n",
    "    data = load_data()\n",
    "    return data.shape[0]"
   ]
  },
  {
   "cell_type": "code",
   "execution_count": null,
   "id": "fcff245d-067c-46c8-aef4-ef7d01391c95",
   "metadata": {},
   "outputs": [],
   "source": [
    "# Remove stopwords\n",
    "def remove_stopwords(tokens):\n",
    "    en_stopwords = stopwords.words(\"English\")\n",
    "    en_stopwords.extend(['im','its','youre','thing','cant','dont','doesnt'])\n",
    "    \n",
    "    return [t for t in tokens if t not in en_stopwords]"
   ]
  },
  {
   "cell_type": "code",
   "execution_count": null,
   "id": "aa7b381f-50da-496c-8058-d77a0cc6c75f",
   "metadata": {},
   "outputs": [],
   "source": [
    "# Extract adjectives\n",
    "def extract_adj(tokens):\n",
    "    adjectives = []\n",
    "    for x in tokens:\n",
    "        if x[1] in ['JJ','JJR','JJS']:\n",
    "            adjectives.append(x[0])\n",
    "\n",
    "    return adjectives"
   ]
  },
  {
   "cell_type": "code",
   "execution_count": null,
   "id": "e1745c12-b989-40f4-9891-26b7969da4e4",
   "metadata": {},
   "outputs": [],
   "source": [
    "# Preprocessing steps\n",
    "def preprocess_data(load_data()):\n",
    "    #Convert the reviews into Lower Case\n",
    "    data.product_review = data.product_review.str.lower()\n",
    "\n",
    "    #Removing puctuations\n",
    "    data.product_review = data.product_review.str.translate(str.maketrans('','',string.punctuation))\n",
    "\n",
    "    #Tokenize words\n",
    "    data['product_review_tokenized'] = data.product_review.apply(nltk.word_tokenize)\n",
    "\n",
    "    #Remove stopwords\n",
    "    data['cleaned_tokens'] = data.product_review_tokenized.apply(remove_stopwords)\n",
    "\n",
    "    #Stingify cleaned tokens\n",
    "    data['product_review_cleaned'] = data.cleaned_tokens.apply(lambda x: ' '.join(x))\n",
    "\n",
    "    #POS Tagging\n",
    "    data['POS_tokens'] = data.product_review_tokenized.apply(nltk.pos_tag)\n",
    "\n",
    "    #Extract adjectives\n",
    "    data['adjectives'] = data.POS_tokens.apply(extract_adj)\n",
    "\n",
    "    return data"
   ]
  },
  {
   "cell_type": "code",
   "execution_count": null,
   "id": "cf936113-e83f-43ad-8be9-40f9cd5c2577",
   "metadata": {},
   "outputs": [],
   "source": [
    "# Get word cloud\n",
    "def get_wordcloud(category):\n",
    "    data = get_preprocessed_data()\n",
    "    adj = \"\"\n",
    "    for x in data[data.product_category == category ].adjectives:\n",
    "        adj += ' '.join(x) + ' '\n",
    "\n",
    "    word_cloud = WordCloud(width=800, height=600, background_color='white').generate(adj)\n",
    "    plt.imshow(word_cloud)\n",
    "    plt.axis('off')\n",
    "    plt.show()"
   ]
  },
  {
   "cell_type": "code",
   "execution_count": null,
   "id": "7e9f5c0a-da73-4aab-9adf-c0d72f2659cc",
   "metadata": {},
   "outputs": [],
   "source": [
    "#get sentiments\n",
    "def polarity_score(review):\n",
    "    # Initilizing the Sentiment Analyzer\n",
    "    sent = SentimentIntensityAnalyzer()\n",
    "   \n",
    "    # Extracting the sentiment polarity scores of a review\n",
    "    scores = sent.polarity_scores(review)\n",
    "    \n",
    "    # Getting the compound score\n",
    "    compound = scores['compound']\n",
    "    \n",
    "    if compound > 0.05:\n",
    "        return \"positive\"\n",
    "    elif compound < -0.5:\n",
    "        return \"negative\"\n",
    "    else:\n",
    "        return \"neutral\""
   ]
  },
  {
   "cell_type": "code",
   "execution_count": null,
   "id": "6ab9e782-a7a1-4aca-9922-7625c7d058a5",
   "metadata": {},
   "outputs": [],
   "source": [
    "def get_sent_analysis():\n",
    "    data = get_processed_data()\n",
    "\n",
    "    # Label sentiments\n",
    "    data['sentiment'] = data.product_review_cleaned.apply(polarity_score)\n",
    "\n",
    "    # Get results\n",
    "    df = data.groupby([\"product_category\",\"sentiment\"]).size().reset_index(name=\"counts\")\n",
    "    return df.to_dict()"
   ]
  },
  {
   "cell_type": "code",
   "execution_count": null,
   "id": "cf8b1ef6-8c06-4616-86ba-69ca10230bd9",
   "metadata": {},
   "outputs": [],
   "source": [
    "class pipeline:\n",
    "    def __init__(self):\n",
    "        self.data = pd.read_csv(\"./data/reviews-dataset.csv\")\n",
    "\n",
    "    def load_data():\n",
    "        return self.data\n",
    "\n",
    "    def category_reviews():\n",
    "        return self.data.product_category.value_counts().to_dict()\n",
    "\n",
    "    def remove_stopwords(tokens):\n",
    "        en_stopwords = stopwords.words(\"English\")\n",
    "        en_stopwords.extend(['im','its','youre','thing','cant','dont','doesnt'])\n",
    "        \n",
    "        return [t for t in tokens if t not in en_stopwords]\n",
    "\n",
    "    def preprocess_data():\n",
    "        #Convert the reviews into Lower Case\n",
    "        self.data.product_review = self.data.product_review.str.lower()\n",
    "    \n",
    "        #Removing puctuations\n",
    "        self.data.product_review = self.data.product_review.str.translate(str.maketrans('','',string.punctuation))\n",
    "    \n",
    "        #Tokenize words\n",
    "        self.data['product_review_tokenized'] = self.data.product_review.apply(nltk.word_tokenize)\n",
    "    \n",
    "        #Remove stopwords\n",
    "        self.data['cleaned_tokens'] = self.data.product_review_tokenized.apply(remove_stopwords)\n",
    "    \n",
    "        #Stingify cleaned tokens\n",
    "        self.data['product_review_cleaned'] = self.data.cleaned_tokens.apply(lambda x: ' '.join(x))\n",
    "    \n",
    "        return self"
   ]
  },
  {
   "cell_type": "code",
   "execution_count": null,
   "id": "22ef8b66-6940-4ae5-b411-d97e43b02a8b",
   "metadata": {},
   "outputs": [],
   "source": []
  }
 ],
 "metadata": {
  "kernelspec": {
   "display_name": "Python 3 (ipykernel)",
   "language": "python",
   "name": "python3"
  },
  "language_info": {
   "codemirror_mode": {
    "name": "ipython",
    "version": 3
   },
   "file_extension": ".py",
   "mimetype": "text/x-python",
   "name": "python",
   "nbconvert_exporter": "python",
   "pygments_lexer": "ipython3",
   "version": "3.11.5"
  }
 },
 "nbformat": 4,
 "nbformat_minor": 5
}
